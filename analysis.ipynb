{
 "cells": [
  {
   "cell_type": "markdown",
   "id": "58ab4496",
   "metadata": {},
   "source": [
    "# Background knowledge\n",
    "\n",
    "I think these videos is worth your time\n",
    "- https://www.youtube.com/watch?v=orDKvo8h71o\n",
    "- https://www.youtube.com/watch?v=l8pRSuU81PU\n",
    "\n",
    "I haven't watched these videos\n",
    "- https://www.youtube.com/watch?v=kCc8FmEb1nY"
   ]
  },
  {
   "cell_type": "markdown",
   "id": "892889ab",
   "metadata": {},
   "source": [
    "# Loading the model"
   ]
  },
  {
   "cell_type": "code",
   "execution_count": 1,
   "id": "d56f50f5",
   "metadata": {},
   "outputs": [
    {
     "name": "stderr",
     "output_type": "stream",
     "text": [
      "/Users/htong/Library/Python/3.9/lib/python/site-packages/urllib3/__init__.py:35: NotOpenSSLWarning: urllib3 v2 only supports OpenSSL 1.1.1+, currently the 'ssl' module is compiled with 'LibreSSL 2.8.3'. See: https://github.com/urllib3/urllib3/issues/3020\n",
      "  warnings.warn(\n"
     ]
    }
   ],
   "source": [
    "# from https://huggingface.co/Qwen/Qwen2.5-0.5B-Instruct\n",
    "from transformers import AutoModelForCausalLM, AutoTokenizer\n",
    "\n",
    "model_name = \"Qwen/Qwen2.5-0.5B-Instruct\"\n",
    "\n",
    "model = AutoModelForCausalLM.from_pretrained(\n",
    "    model_name,\n",
    "    torch_dtype=\"auto\",\n",
    "    device_map=\"auto\"\n",
    ")\n",
    "tokenizer = AutoTokenizer.from_pretrained(model_name)"
   ]
  },
  {
   "cell_type": "code",
   "execution_count": 2,
   "id": "9b193f07",
   "metadata": {},
   "outputs": [],
   "source": [
    "prompt = \"Give me a short introduction to large language model.\"\n",
    "messages = [\n",
    "    {\"role\": \"system\", \"content\": \"You are Qwen, created by Alibaba Cloud. You are a helpful assistant.\"},\n",
    "    {\"role\": \"user\", \"content\": prompt}\n",
    "]\n",
    "text = tokenizer.apply_chat_template(\n",
    "    messages,\n",
    "    tokenize=False,\n",
    "    add_generation_prompt=True\n",
    ")\n",
    "model_inputs = tokenizer([text], return_tensors=\"pt\").to(model.device)\n",
    "\n",
    "generated_ids = model.generate(\n",
    "    **model_inputs,\n",
    "    max_new_tokens=512\n",
    ")\n",
    "generated_ids = [\n",
    "    output_ids[len(input_ids):] for input_ids, output_ids in zip(model_inputs.input_ids, generated_ids)\n",
    "]\n",
    "\n",
    "response = tokenizer.batch_decode(generated_ids, skip_special_tokens=True)[0]"
   ]
  },
  {
   "cell_type": "code",
   "execution_count": 3,
   "id": "779745d2",
   "metadata": {},
   "outputs": [
    {
     "name": "stdout",
     "output_type": "stream",
     "text": [
      "Certainly! A large language model (LLM) is an artificial intelligence system that can generate human-like text based on the input it receives. These models are designed to be extremely powerful and flexible, capable of understanding natural language inputs and generating coherent responses.\n",
      "\n",
      "The term \"large\" in LLM refers to the scale at which these models operate. They often use deep learning architectures like Transformers or GPT-3, which have been trained on vast amounts of data to achieve high levels of performance. These models are particularly effective for tasks such as translation, summarization, question answering, and more complex language generation.\n",
      "\n",
      "LLMs are widely used in various applications across different industries, including but not limited to:\n",
      "\n",
      "1. **Chatbots**: Many businesses and online services rely on chatbots powered by LLMs to provide customer support and automate routine interactions.\n",
      "2. **NLP**: In fields like machine translation, text classification, and information retrieval, LLMs are essential tools for processing and analyzing large volumes of unstructured text data.\n",
      "3. **Research**: Researchers and developers use LLMs to explore new concepts, understand patterns, and develop new algorithms.\n",
      "4. **Education**: Teachers and educators can use LLMs to create interactive educational content, enhance learning experiences, and personalize instruction.\n",
      "5. **Healthcare**: In healthcare, LLMs are being used to analyze medical texts, identify patterns, and predict outcomes, helping doctors make more informed decisions.\n",
      "\n",
      "Despite their capabilities, LLMs also face challenges, including issues related to bias, interpretability, and the need for transparent explanations when generated text is understood by humans. Therefore, continuous research and development are ongoing efforts to improve the quality and reliability of LLM-based solutions.\n"
     ]
    }
   ],
   "source": [
    "print(response)"
   ]
  },
  {
   "cell_type": "code",
   "execution_count": 4,
   "id": "168030da",
   "metadata": {},
   "outputs": [
    {
     "data": {
      "text/plain": [
       "151643"
      ]
     },
     "execution_count": 4,
     "metadata": {},
     "output_type": "execute_result"
    }
   ],
   "source": [
    "tokenizer.vocab_size"
   ]
  },
  {
   "cell_type": "code",
   "execution_count": 5,
   "id": "b193de1b",
   "metadata": {},
   "outputs": [
    {
     "data": {
      "text/plain": [
       "151645"
      ]
     },
     "execution_count": 5,
     "metadata": {},
     "output_type": "execute_result"
    }
   ],
   "source": [
    "tokenizer.eos_token_id"
   ]
  },
  {
   "cell_type": "code",
   "execution_count": 6,
   "id": "345c8fec",
   "metadata": {},
   "outputs": [
    {
     "data": {
      "text/plain": [
       "151936"
      ]
     },
     "execution_count": 6,
     "metadata": {},
     "output_type": "execute_result"
    }
   ],
   "source": [
    "model.vocab_size  # this includes the special tokens"
   ]
  },
  {
   "cell_type": "code",
   "execution_count": 7,
   "id": "ef2e3002",
   "metadata": {},
   "outputs": [
    {
     "data": {
      "text/plain": [
       "'<|im_end|>'"
      ]
     },
     "execution_count": 7,
     "metadata": {},
     "output_type": "execute_result"
    }
   ],
   "source": [
    "tokenizer.eos_token"
   ]
  },
  {
   "cell_type": "code",
   "execution_count": 8,
   "id": "cd3abdae",
   "metadata": {},
   "outputs": [
    {
     "data": {
      "text/plain": [
       "494032768"
      ]
     },
     "execution_count": 8,
     "metadata": {},
     "output_type": "execute_result"
    }
   ],
   "source": [
    "model.num_parameters()"
   ]
  },
  {
   "cell_type": "markdown",
   "id": "71296fbe",
   "metadata": {},
   "source": [
    "# Architecture"
   ]
  },
  {
   "cell_type": "code",
   "execution_count": 9,
   "id": "986c08e4",
   "metadata": {},
   "outputs": [
    {
     "data": {
      "text/plain": [
       "Qwen2ForCausalLM(\n",
       "  (model): Qwen2Model(\n",
       "    (embed_tokens): Embedding(151936, 896)\n",
       "    (layers): ModuleList(\n",
       "      (0-23): 24 x Qwen2DecoderLayer(\n",
       "        (self_attn): Qwen2SdpaAttention(\n",
       "          (q_proj): Linear(in_features=896, out_features=896, bias=True)\n",
       "          (k_proj): Linear(in_features=896, out_features=128, bias=True)\n",
       "          (v_proj): Linear(in_features=896, out_features=128, bias=True)\n",
       "          (o_proj): Linear(in_features=896, out_features=896, bias=False)\n",
       "          (rotary_emb): Qwen2RotaryEmbedding()\n",
       "        )\n",
       "        (mlp): Qwen2MLP(\n",
       "          (gate_proj): Linear(in_features=896, out_features=4864, bias=False)\n",
       "          (up_proj): Linear(in_features=896, out_features=4864, bias=False)\n",
       "          (down_proj): Linear(in_features=4864, out_features=896, bias=False)\n",
       "          (act_fn): SiLU()\n",
       "        )\n",
       "        (input_layernorm): Qwen2RMSNorm((896,), eps=1e-06)\n",
       "        (post_attention_layernorm): Qwen2RMSNorm((896,), eps=1e-06)\n",
       "      )\n",
       "    )\n",
       "    (norm): Qwen2RMSNorm((896,), eps=1e-06)\n",
       "    (rotary_emb): Qwen2RotaryEmbedding()\n",
       "  )\n",
       "  (lm_head): Linear(in_features=896, out_features=151936, bias=False)\n",
       ")"
      ]
     },
     "execution_count": 9,
     "metadata": {},
     "output_type": "execute_result"
    }
   ],
   "source": [
    "model"
   ]
  },
  {
   "cell_type": "code",
   "execution_count": 10,
   "id": "b602a904",
   "metadata": {},
   "outputs": [
    {
     "data": {
      "text/plain": [
       "Qwen2Config {\n",
       "  \"_attn_implementation_autoset\": true,\n",
       "  \"_name_or_path\": \"Qwen/Qwen2.5-0.5B-Instruct\",\n",
       "  \"architectures\": [\n",
       "    \"Qwen2ForCausalLM\"\n",
       "  ],\n",
       "  \"attention_dropout\": 0.0,\n",
       "  \"bos_token_id\": 151643,\n",
       "  \"eos_token_id\": 151645,\n",
       "  \"hidden_act\": \"silu\",\n",
       "  \"hidden_size\": 896,\n",
       "  \"initializer_range\": 0.02,\n",
       "  \"intermediate_size\": 4864,\n",
       "  \"max_position_embeddings\": 32768,\n",
       "  \"max_window_layers\": 21,\n",
       "  \"model_type\": \"qwen2\",\n",
       "  \"num_attention_heads\": 14,\n",
       "  \"num_hidden_layers\": 24,\n",
       "  \"num_key_value_heads\": 2,\n",
       "  \"rms_norm_eps\": 1e-06,\n",
       "  \"rope_scaling\": null,\n",
       "  \"rope_theta\": 1000000.0,\n",
       "  \"sliding_window\": null,\n",
       "  \"tie_word_embeddings\": true,\n",
       "  \"torch_dtype\": \"bfloat16\",\n",
       "  \"transformers_version\": \"4.47.1\",\n",
       "  \"use_cache\": true,\n",
       "  \"use_sliding_window\": false,\n",
       "  \"vocab_size\": 151936\n",
       "}"
      ]
     },
     "execution_count": 10,
     "metadata": {},
     "output_type": "execute_result"
    }
   ],
   "source": [
    "model.config"
   ]
  },
  {
   "cell_type": "code",
   "execution_count": 11,
   "id": "ebcacdaf",
   "metadata": {},
   "outputs": [
    {
     "data": {
      "text/plain": [
       "device(type='mps', index=0)"
      ]
     },
     "execution_count": 11,
     "metadata": {},
     "output_type": "execute_result"
    }
   ],
   "source": [
    "model.device"
   ]
  },
  {
   "cell_type": "markdown",
   "id": "907e51d3",
   "metadata": {},
   "source": [
    "# Parameter counting"
   ]
  },
  {
   "cell_type": "code",
   "execution_count": 12,
   "id": "52928ac0",
   "metadata": {},
   "outputs": [],
   "source": [
    "def count_parameters(module):\n",
    "    return sum(p.numel() for p in module.parameters())"
   ]
  },
  {
   "cell_type": "code",
   "execution_count": 13,
   "id": "59172642",
   "metadata": {},
   "outputs": [
    {
     "data": {
      "text/plain": [
       "(494032768, 494032768)"
      ]
     },
     "execution_count": 13,
     "metadata": {},
     "output_type": "execute_result"
    }
   ],
   "source": [
    "count_parameters(model), model.model.num_parameters()"
   ]
  },
  {
   "cell_type": "code",
   "execution_count": 14,
   "id": "2e46d299",
   "metadata": {},
   "outputs": [
    {
     "data": {
      "text/plain": [
       "(Qwen2RMSNorm((896,), eps=1e-06), 896)"
      ]
     },
     "execution_count": 14,
     "metadata": {},
     "output_type": "execute_result"
    }
   ],
   "source": [
    "model.model.norm, count_parameters(model.model.norm)"
   ]
  },
  {
   "cell_type": "code",
   "execution_count": 15,
   "id": "14b747e8",
   "metadata": {},
   "outputs": [
    {
     "data": {
      "text/plain": [
       "(Qwen2RotaryEmbedding(), 0)"
      ]
     },
     "execution_count": 15,
     "metadata": {},
     "output_type": "execute_result"
    }
   ],
   "source": [
    "model.model.rotary_emb, count_parameters(model.model.rotary_emb)"
   ]
  },
  {
   "cell_type": "code",
   "execution_count": 16,
   "id": "492bba3f",
   "metadata": {},
   "outputs": [
    {
     "data": {
      "text/plain": [
       "(Linear(in_features=896, out_features=896, bias=True), 803712)"
      ]
     },
     "execution_count": 16,
     "metadata": {},
     "output_type": "execute_result"
    }
   ],
   "source": [
    "(model.model.layers[0].self_attn.q_proj, count_parameters(model.model.layers[0].self_attn.q_proj))"
   ]
  },
  {
   "cell_type": "code",
   "execution_count": 17,
   "id": "e5a3dc71",
   "metadata": {},
   "outputs": [
    {
     "data": {
      "text/plain": [
       "(Linear(in_features=896, out_features=896, bias=False), 802816)"
      ]
     },
     "execution_count": 17,
     "metadata": {},
     "output_type": "execute_result"
    }
   ],
   "source": [
    "(model.model.layers[0].self_attn.o_proj, count_parameters(model.model.layers[0].self_attn.o_proj))"
   ]
  },
  {
   "cell_type": "markdown",
   "id": "9643450d",
   "metadata": {},
   "source": [
    "# Transformer module"
   ]
  },
  {
   "cell_type": "code",
   "execution_count": 18,
   "id": "f3b3d46f",
   "metadata": {},
   "outputs": [
    {
     "data": {
      "text/plain": [
       "Qwen2DecoderLayer(\n",
       "  (self_attn): Qwen2SdpaAttention(\n",
       "    (q_proj): Linear(in_features=896, out_features=896, bias=True)\n",
       "    (k_proj): Linear(in_features=896, out_features=128, bias=True)\n",
       "    (v_proj): Linear(in_features=896, out_features=128, bias=True)\n",
       "    (o_proj): Linear(in_features=896, out_features=896, bias=False)\n",
       "    (rotary_emb): Qwen2RotaryEmbedding()\n",
       "  )\n",
       "  (mlp): Qwen2MLP(\n",
       "    (gate_proj): Linear(in_features=896, out_features=4864, bias=False)\n",
       "    (up_proj): Linear(in_features=896, out_features=4864, bias=False)\n",
       "    (down_proj): Linear(in_features=4864, out_features=896, bias=False)\n",
       "    (act_fn): SiLU()\n",
       "  )\n",
       "  (input_layernorm): Qwen2RMSNorm((896,), eps=1e-06)\n",
       "  (post_attention_layernorm): Qwen2RMSNorm((896,), eps=1e-06)\n",
       ")"
      ]
     },
     "execution_count": 18,
     "metadata": {},
     "output_type": "execute_result"
    }
   ],
   "source": [
    "# notice that the dimension of k_proj and v_proj is different from q_proj\n",
    "model.model.layers[0]"
   ]
  },
  {
   "cell_type": "code",
   "execution_count": 19,
   "id": "c166034f",
   "metadata": {},
   "outputs": [
    {
     "data": {
      "text/plain": [
       "transformers.models.qwen2.modeling_qwen2.Qwen2DecoderLayer"
      ]
     },
     "execution_count": 19,
     "metadata": {},
     "output_type": "execute_result"
    }
   ],
   "source": [
    "type(model.model.layers[0])"
   ]
  },
  {
   "cell_type": "code",
   "execution_count": 20,
   "id": "cdd5956e",
   "metadata": {},
   "outputs": [
    {
     "data": {
      "text/plain": [
       "14912384"
      ]
     },
     "execution_count": 20,
     "metadata": {},
     "output_type": "execute_result"
    }
   ],
   "source": [
    "count_parameters(model.model.layers[0])"
   ]
  },
  {
   "cell_type": "code",
   "execution_count": 21,
   "id": "e04d50f1",
   "metadata": {},
   "outputs": [
    {
     "name": "stdout",
     "output_type": "stream",
     "text": [
      "    def forward(\n",
      "        self,\n",
      "        hidden_states: torch.Tensor,\n",
      "        attention_mask: Optional[torch.Tensor] = None,\n",
      "        position_ids: Optional[torch.LongTensor] = None,\n",
      "        past_key_value: Optional[Tuple[torch.Tensor]] = None,\n",
      "        output_attentions: Optional[bool] = False,\n",
      "        use_cache: Optional[bool] = False,\n",
      "        cache_position: Optional[torch.LongTensor] = None,\n",
      "        position_embeddings: Optional[Tuple[torch.Tensor, torch.Tensor]] = None,  # will become mandatory in v4.46\n",
      "        **kwargs,\n",
      "    ) -> Tuple[torch.FloatTensor, Optional[Tuple[torch.FloatTensor, torch.FloatTensor]]]:\n",
      "        \"\"\"\n",
      "        Args:\n",
      "            hidden_states (`torch.FloatTensor`): input to the layer of shape `(batch, seq_len, embed_dim)`\n",
      "            attention_mask (`torch.FloatTensor`, *optional*): attention mask of size\n",
      "                `(batch, sequence_length)` where padding elements are indicated by 0.\n",
      "            output_attentions (`bool`, *optional*):\n",
      "                Whether or not to return the attentions tensors of all attention layers. See `attentions` under\n",
      "                returned tensors for more detail.\n",
      "            use_cache (`bool`, *optional*):\n",
      "                If set to `True`, `past_key_values` key value states are returned and can be used to speed up decoding\n",
      "                (see `past_key_values`).\n",
      "            past_key_value (`Tuple(torch.FloatTensor)`, *optional*): cached past key and value projection states\n",
      "            cache_position (`torch.LongTensor` of shape `(sequence_length)`, *optional*):\n",
      "                Indices depicting the position of the input sequence tokens in the sequence.\n",
      "            position_embeddings (`Tuple[torch.FloatTensor, torch.FloatTensor]`, *optional*):\n",
      "                Tuple containing the cosine and sine positional embeddings of shape `(batch_size, seq_len, head_dim)`,\n",
      "                with `head_dim` being the embedding dimension of each attention head.\n",
      "            kwargs (`dict`, *optional*):\n",
      "                Arbitrary kwargs to be ignored, used for FSDP and other methods that injects code\n",
      "                into the model\n",
      "        \"\"\"\n",
      "\n",
      "        residual = hidden_states\n",
      "\n",
      "        hidden_states = self.input_layernorm(hidden_states)\n",
      "\n",
      "        # Self Attention\n",
      "        hidden_states, self_attn_weights, present_key_value = self.self_attn(\n",
      "            hidden_states=hidden_states,\n",
      "            attention_mask=attention_mask,\n",
      "            position_ids=position_ids,\n",
      "            past_key_value=past_key_value,\n",
      "            output_attentions=output_attentions,\n",
      "            use_cache=use_cache,\n",
      "            cache_position=cache_position,\n",
      "            position_embeddings=position_embeddings,\n",
      "        )\n",
      "        hidden_states = residual + hidden_states\n",
      "\n",
      "        # Fully Connected\n",
      "        residual = hidden_states\n",
      "        hidden_states = self.post_attention_layernorm(hidden_states)\n",
      "        hidden_states = self.mlp(hidden_states)\n",
      "        hidden_states = residual + hidden_states\n",
      "\n",
      "        outputs = (hidden_states,)\n",
      "\n",
      "        if output_attentions:\n",
      "            outputs += (self_attn_weights,)\n",
      "\n",
      "        if use_cache:\n",
      "            outputs += (present_key_value,)\n",
      "\n",
      "        return outputs\n",
      "\n"
     ]
    }
   ],
   "source": [
    "import inspect\n",
    "import transformers\n",
    "print(inspect.getsource(transformers.models.qwen2.modeling_qwen2.Qwen2DecoderLayer.forward))"
   ]
  },
  {
   "cell_type": "markdown",
   "id": "9d7e6d81",
   "metadata": {},
   "source": [
    "# Attention layer"
   ]
  },
  {
   "cell_type": "code",
   "execution_count": 22,
   "id": "42a02890",
   "metadata": {},
   "outputs": [
    {
     "data": {
      "text/plain": [
       "Qwen2SdpaAttention(\n",
       "  (q_proj): Linear(in_features=896, out_features=896, bias=True)\n",
       "  (k_proj): Linear(in_features=896, out_features=128, bias=True)\n",
       "  (v_proj): Linear(in_features=896, out_features=128, bias=True)\n",
       "  (o_proj): Linear(in_features=896, out_features=896, bias=False)\n",
       "  (rotary_emb): Qwen2RotaryEmbedding()\n",
       ")"
      ]
     },
     "execution_count": 22,
     "metadata": {},
     "output_type": "execute_result"
    }
   ],
   "source": [
    "model.model.layers[0].self_attn"
   ]
  },
  {
   "cell_type": "code",
   "execution_count": 23,
   "id": "7019bcb3",
   "metadata": {},
   "outputs": [
    {
     "data": {
      "text/plain": [
       "transformers.models.qwen2.modeling_qwen2.Qwen2SdpaAttention"
      ]
     },
     "execution_count": 23,
     "metadata": {},
     "output_type": "execute_result"
    }
   ],
   "source": [
    "type(model.model.layers[0].self_attn)"
   ]
  },
  {
   "cell_type": "code",
   "execution_count": 24,
   "id": "ccd8ac10",
   "metadata": {},
   "outputs": [
    {
     "data": {
      "text/plain": [
       "1836160"
      ]
     },
     "execution_count": 24,
     "metadata": {},
     "output_type": "execute_result"
    }
   ],
   "source": [
    "count_parameters(model.model.layers[0].self_attn)"
   ]
  },
  {
   "cell_type": "code",
   "execution_count": 25,
   "id": "b61b6db1",
   "metadata": {},
   "outputs": [
    {
     "data": {
      "text/plain": [
       "13074432"
      ]
     },
     "execution_count": 25,
     "metadata": {},
     "output_type": "execute_result"
    }
   ],
   "source": [
    "count_parameters(model.model.layers[0].mlp)  # has more parameters"
   ]
  },
  {
   "cell_type": "code",
   "execution_count": 26,
   "id": "3d444a8d",
   "metadata": {},
   "outputs": [
    {
     "data": {
      "text/plain": [
       "Qwen2Config {\n",
       "  \"_attn_implementation_autoset\": true,\n",
       "  \"_name_or_path\": \"Qwen/Qwen2.5-0.5B-Instruct\",\n",
       "  \"architectures\": [\n",
       "    \"Qwen2ForCausalLM\"\n",
       "  ],\n",
       "  \"attention_dropout\": 0.0,\n",
       "  \"bos_token_id\": 151643,\n",
       "  \"eos_token_id\": 151645,\n",
       "  \"hidden_act\": \"silu\",\n",
       "  \"hidden_size\": 896,\n",
       "  \"initializer_range\": 0.02,\n",
       "  \"intermediate_size\": 4864,\n",
       "  \"max_position_embeddings\": 32768,\n",
       "  \"max_window_layers\": 21,\n",
       "  \"model_type\": \"qwen2\",\n",
       "  \"num_attention_heads\": 14,\n",
       "  \"num_hidden_layers\": 24,\n",
       "  \"num_key_value_heads\": 2,\n",
       "  \"rms_norm_eps\": 1e-06,\n",
       "  \"rope_scaling\": null,\n",
       "  \"rope_theta\": 1000000.0,\n",
       "  \"sliding_window\": null,\n",
       "  \"tie_word_embeddings\": true,\n",
       "  \"torch_dtype\": \"bfloat16\",\n",
       "  \"transformers_version\": \"4.47.1\",\n",
       "  \"use_cache\": true,\n",
       "  \"use_sliding_window\": false,\n",
       "  \"vocab_size\": 151936\n",
       "}"
      ]
     },
     "execution_count": 26,
     "metadata": {},
     "output_type": "execute_result"
    }
   ],
   "source": [
    "model.model.layers[0].self_attn.config"
   ]
  },
  {
   "cell_type": "code",
   "execution_count": 27,
   "id": "f756d40d",
   "metadata": {},
   "outputs": [
    {
     "name": "stdout",
     "output_type": "stream",
     "text": [
      "    def __init__(self, config: Qwen2Config, layer_idx: Optional[int] = None):\n",
      "        super().__init__()\n",
      "        self.config = config\n",
      "        self.layer_idx = layer_idx\n",
      "        if layer_idx is None:\n",
      "            logger.warning_once(\n",
      "                f\"Instantiating {self.__class__.__name__} without passing `layer_idx` is not recommended and will \"\n",
      "                \"to errors during the forward call, if caching is used. Please make sure to provide a `layer_idx` \"\n",
      "                \"when creating this class.\"\n",
      "            )\n",
      "\n",
      "        self.hidden_size = config.hidden_size\n",
      "        self.num_heads = config.num_attention_heads\n",
      "        self.head_dim = self.hidden_size // self.num_heads\n",
      "        self.num_key_value_heads = config.num_key_value_heads\n",
      "        self.num_key_value_groups = self.num_heads // self.num_key_value_heads\n",
      "        self.max_position_embeddings = config.max_position_embeddings\n",
      "        self.rope_theta = config.rope_theta\n",
      "        self.is_causal = True\n",
      "        self.attention_dropout = config.attention_dropout\n",
      "\n",
      "        if (self.head_dim * self.num_heads) != self.hidden_size:\n",
      "            raise ValueError(\n",
      "                f\"hidden_size must be divisible by num_heads (got `hidden_size`: {self.hidden_size}\"\n",
      "                f\" and `num_heads`: {self.num_heads}).\"\n",
      "            )\n",
      "        self.q_proj = nn.Linear(self.hidden_size, self.num_heads * self.head_dim, bias=True)\n",
      "        self.k_proj = nn.Linear(self.hidden_size, self.num_key_value_heads * self.head_dim, bias=True)\n",
      "        self.v_proj = nn.Linear(self.hidden_size, self.num_key_value_heads * self.head_dim, bias=True)\n",
      "        self.o_proj = nn.Linear(self.num_heads * self.head_dim, self.hidden_size, bias=False)\n",
      "\n",
      "        self.rotary_emb = Qwen2RotaryEmbedding(config=self.config)\n",
      "\n"
     ]
    }
   ],
   "source": [
    "import inspect\n",
    "import transformers\n",
    "print(inspect.getsource(transformers.models.qwen2.modeling_qwen2.Qwen2SdpaAttention.__init__))"
   ]
  },
  {
   "cell_type": "code",
   "execution_count": 28,
   "id": "2c2e9954",
   "metadata": {
    "scrolled": false
   },
   "outputs": [
    {
     "name": "stdout",
     "output_type": "stream",
     "text": [
      "    def forward(\n",
      "        self,\n",
      "        hidden_states: torch.Tensor,\n",
      "        attention_mask: Optional[torch.Tensor] = None,\n",
      "        position_ids: Optional[torch.LongTensor] = None,\n",
      "        past_key_value: Optional[Cache] = None,\n",
      "        output_attentions: bool = False,\n",
      "        use_cache: bool = False,\n",
      "        cache_position: Optional[torch.LongTensor] = None,\n",
      "        position_embeddings: Optional[Tuple[torch.Tensor, torch.Tensor]] = None,  # will become mandatory in v4.46\n",
      "    ) -> Tuple[torch.Tensor, Optional[torch.Tensor], Optional[Tuple[torch.Tensor]]]:\n",
      "        if output_attentions:\n",
      "            # TODO: Improve this warning with e.g. `model.config.attn_implementation = \"manual\"` once this is implemented.\n",
      "            logger.warning_once(\n",
      "                \"Qwen2Model is using Qwen2SdpaAttention, but `torch.nn.functional.scaled_dot_product_attention` does not support `output_attentions=True`. Falling back to the manual attention implementation, \"\n",
      "                'but specifying the manual implementation will be required from Transformers version v5.0.0 onwards. This warning can be removed using the argument `attn_implementation=\"eager\"` when loading the model.'\n",
      "            )\n",
      "            return super().forward(\n",
      "                hidden_states=hidden_states,\n",
      "                attention_mask=attention_mask,\n",
      "                position_ids=position_ids,\n",
      "                past_key_value=past_key_value,\n",
      "                output_attentions=output_attentions,\n",
      "                use_cache=use_cache,\n",
      "            )\n",
      "\n",
      "        bsz, q_len, _ = hidden_states.size()\n",
      "\n",
      "        query_states = self.q_proj(hidden_states)\n",
      "        key_states = self.k_proj(hidden_states)\n",
      "        value_states = self.v_proj(hidden_states)\n",
      "\n",
      "        query_states = query_states.view(bsz, q_len, -1, self.head_dim).transpose(1, 2)\n",
      "        key_states = key_states.view(bsz, q_len, -1, self.head_dim).transpose(1, 2)\n",
      "        value_states = value_states.view(bsz, q_len, -1, self.head_dim).transpose(1, 2)\n",
      "\n",
      "        if position_embeddings is None:\n",
      "            logger.warning_once(\n",
      "                \"The attention layers in this model are transitioning from computing the RoPE embeddings internally \"\n",
      "                \"through `position_ids` (2D tensor with the indexes of the tokens), to using externally computed \"\n",
      "                \"`position_embeddings` (Tuple of tensors, containing cos and sin). In v4.46 `position_ids` will be \"\n",
      "                \"removed and `position_embeddings` will be mandatory.\"\n",
      "            )\n",
      "            cos, sin = self.rotary_emb(value_states, position_ids)\n",
      "        else:\n",
      "            cos, sin = position_embeddings\n",
      "        query_states, key_states = apply_rotary_pos_emb(query_states, key_states, cos, sin)\n",
      "\n",
      "        if past_key_value is not None:\n",
      "            cache_kwargs = {\"sin\": sin, \"cos\": cos, \"cache_position\": cache_position}  # Specific to RoPE models\n",
      "            key_states, value_states = past_key_value.update(key_states, value_states, self.layer_idx, cache_kwargs)\n",
      "\n",
      "        key_states = repeat_kv(key_states, self.num_key_value_groups)\n",
      "        value_states = repeat_kv(value_states, self.num_key_value_groups)\n",
      "\n",
      "        causal_mask = attention_mask\n",
      "        if attention_mask is not None:  # no matter the length, we just slice it\n",
      "            causal_mask = attention_mask[:, :, :, : key_states.shape[-2]]\n",
      "\n",
      "        # SDPA with memory-efficient backend is currently (torch==2.1.2) bugged with non-contiguous inputs with custom attn_mask,\n",
      "        # Reference: https://github.com/pytorch/pytorch/issues/112577.\n",
      "        if query_states.device.type == \"cuda\" and attention_mask is not None:\n",
      "            query_states = query_states.contiguous()\n",
      "            key_states = key_states.contiguous()\n",
      "            value_states = value_states.contiguous()\n",
      "\n",
      "        # We dispatch to SDPA's Flash Attention or Efficient kernels via this `is_causal` if statement instead of an inline conditional assignment\n",
      "        # in SDPA to support both torch.compile's dynamic shapes and full graph options. An inline conditional prevents dynamic shapes from compiling.\n",
      "        # The q_len > 1 is necessary to match with AttentionMaskConverter.to_causal_4d that does not create a causal mask in case q_len == 1.\n",
      "        is_causal = True if causal_mask is None and q_len > 1 else False\n",
      "\n",
      "        attn_output = torch.nn.functional.scaled_dot_product_attention(\n",
      "            query_states,\n",
      "            key_states,\n",
      "            value_states,\n",
      "            attn_mask=causal_mask,\n",
      "            dropout_p=self.attention_dropout if self.training else 0.0,\n",
      "            is_causal=is_causal,\n",
      "        )\n",
      "\n",
      "        attn_output = attn_output.transpose(1, 2).contiguous()\n",
      "        attn_output = attn_output.view(bsz, q_len, self.hidden_size)\n",
      "\n",
      "        attn_output = self.o_proj(attn_output)\n",
      "\n",
      "        return attn_output, None, past_key_value\n",
      "\n"
     ]
    }
   ],
   "source": [
    "import inspect\n",
    "import transformers\n",
    "print(inspect.getsource(transformers.models.qwen2.modeling_qwen2.Qwen2SdpaAttention.forward))"
   ]
  },
  {
   "cell_type": "code",
   "execution_count": 29,
   "id": "7af04e88",
   "metadata": {},
   "outputs": [],
   "source": [
    "# Qwen2SdpaAttention.forward is a wrapper around scaled_dot_product_attention\n",
    "# applying positional embedding\n",
    "# added caching logic (not sure if optimal)\n",
    "# multi‐query attention - which involves key state and value state copying"
   ]
  },
  {
   "cell_type": "code",
   "execution_count": 30,
   "id": "cb67a510",
   "metadata": {},
   "outputs": [
    {
     "data": {
      "text/plain": [
       "<function torch._C._nn.scaled_dot_product_attention>"
      ]
     },
     "execution_count": 30,
     "metadata": {},
     "output_type": "execute_result"
    }
   ],
   "source": [
    "import torch\n",
    "torch.nn.functional.scaled_dot_product_attention\n",
    "# https://pytorch.org/docs/stable/generated/torch.nn.functional.scaled_dot_product_attention.html"
   ]
  },
  {
   "cell_type": "code",
   "execution_count": 31,
   "id": "08454d94",
   "metadata": {},
   "outputs": [],
   "source": [
    "# Efficient implementation equivalent to the following (o1 rewritten):\n",
    "from typing import Optional\n",
    "def scaled_dot_product_attention(\n",
    "    query: torch.Tensor,   # shape [..., Q_seq_len, embedding_dim]\n",
    "    key: torch.Tensor,     # shape [..., K_seq_len, embedding_dim]\n",
    "    value: torch.Tensor,   # shape [..., K_seq_len, embedding_dim]\n",
    "    attn_mask: Optional[torch.Tensor] = None,\n",
    "    dropout_p: float = 0.0,\n",
    "    is_causal: bool = False,\n",
    "    scale: Optional[float] = None,\n",
    "    enable_gqa: bool = False\n",
    ") -> torch.Tensor:\n",
    "    # Extract lengths and embedding dimension\n",
    "    Q_seq_len, K_seq_len = query.size(-2), key.size(-2)\n",
    "    embedding_dim = query.size(-1)\n",
    "\n",
    "    # If scale is None, default is 1 / sqrt(embedding_dim)\n",
    "    scale_factor = 1 / math.sqrt(embedding_dim) if scale is None else scale\n",
    "\n",
    "    # attn_bias: shape [Q_seq_len, K_seq_len]\n",
    "    attn_bias = torch.zeros(Q_seq_len, K_seq_len, dtype=query.dtype)\n",
    "\n",
    "    # If causal masking is enabled, create a lower-triangular mask\n",
    "    if is_causal:\n",
    "        assert attn_mask is None, \"Cannot combine attn_mask with is_causal.\"\n",
    "        # temp_mask: shape [Q_seq_len, K_seq_len], bool\n",
    "        temp_mask = torch.ones(Q_seq_len, K_seq_len, dtype=torch.bool).tril(diagonal=0)\n",
    "        attn_bias.masked_fill_(temp_mask.logical_not(), float(\"-inf\"))\n",
    "        attn_bias.to(query.dtype)\n",
    "\n",
    "    # If attn_mask is provided\n",
    "    if attn_mask is not None:\n",
    "        if attn_mask.dtype == torch.bool:\n",
    "            # For boolean masks, set invalid positions to -inf\n",
    "            attn_bias.masked_fill_(attn_mask.logical_not(), float(\"-inf\"))\n",
    "        else:\n",
    "            # For floating masks, add them directly (e.g., additive mask)\n",
    "            attn_bias += attn_mask\n",
    "\n",
    "    # If grouped-query attention is enabled, repeat key/value to match query shape\n",
    "    if enable_gqa:\n",
    "        # key and value might be repeated along their \"batch-like\" axis\n",
    "        key = key.repeat_interleave(query.size(-3) // key.size(-3), -3)\n",
    "        value = value.repeat_interleave(query.size(-3) // value.size(-3), -3)\n",
    "\n",
    "    # Compute raw attention scores:\n",
    "    # [Q_seq_len, embedding_dim] @ [embedding_dim, K_seq_len] -> [Q_seq_len, K_seq_len]\n",
    "    attn_weight = query @ key.transpose(-2, -1) * scale_factor\n",
    "    attn_weight += attn_bias\n",
    "\n",
    "    # Normalize along the last dimension (K_seq_len)\n",
    "    attn_weight = torch.softmax(attn_weight, dim=-1)\n",
    "\n",
    "    # Apply dropout on attention weights\n",
    "    attn_weight = torch.dropout(attn_weight, dropout_p, train=True)\n",
    "\n",
    "    # Output: [Q_seq_len, K_seq_len] @ [K_seq_len, embedding_dim] -> [Q_seq_len, embedding_dim]\n",
    "    return attn_weight @ value"
   ]
  },
  {
   "cell_type": "markdown",
   "id": "8d6ee5dc",
   "metadata": {},
   "source": [
    "# Diagram"
   ]
  },
  {
   "cell_type": "markdown",
   "id": "d43e5616",
   "metadata": {},
   "source": [
    "![](architecture.drawio.svg)\n",
    "\n",
    "\n",
    "- White is needed for working memory.\n",
    "- Yellow is what could be cached.\n",
    "- Red is what needs to be computed for every new token generated."
   ]
  },
  {
   "cell_type": "markdown",
   "id": "03fa480f",
   "metadata": {},
   "source": [
    "# Multi-query attention\n",
    "\n",
    "```\n",
    "self.head_dim = self.hidden_size // self.num_heads\n",
    "self.num_key_value_groups = self.num_heads // self.num_key_value_heads\n",
    "```"
   ]
  },
  {
   "cell_type": "code",
   "execution_count": 32,
   "id": "af77abd2",
   "metadata": {},
   "outputs": [
    {
     "data": {
      "text/plain": [
       "(896, 14, 2)"
      ]
     },
     "execution_count": 32,
     "metadata": {},
     "output_type": "execute_result"
    }
   ],
   "source": [
    "# input configs\n",
    "(\n",
    "    model.model.layers[0].self_attn.hidden_size,\n",
    "    model.model.layers[0].self_attn.num_heads,\n",
    "    model.model.layers[0].self_attn.num_key_value_heads,\n",
    ")"
   ]
  },
  {
   "cell_type": "code",
   "execution_count": 33,
   "id": "93e6a000",
   "metadata": {},
   "outputs": [
    {
     "data": {
      "text/plain": [
       "(64, 7)"
      ]
     },
     "execution_count": 33,
     "metadata": {},
     "output_type": "execute_result"
    }
   ],
   "source": [
    "# derived configs\n",
    "(\n",
    "    model.model.layers[0].self_attn.head_dim,\n",
    "    model.model.layers[0].self_attn.num_key_value_groups,\n",
    ")"
   ]
  },
  {
   "cell_type": "markdown",
   "id": "1bc568fe",
   "metadata": {},
   "source": [
    "The purpose of multi-query attention\n",
    "\n",
    "- Reap the benefits of multi-head attention but limit number of the key-value embeddings to cache"
   ]
  },
  {
   "cell_type": "markdown",
   "id": "de1bca70",
   "metadata": {},
   "source": [
    "# Complexity"
   ]
  },
  {
   "cell_type": "markdown",
   "id": "e24c7764",
   "metadata": {},
   "source": [
    "Complexity of to generate the first token - just the attention mechanism\n",
    "\n",
    "The query length is the sequence length\n",
    "\n",
    "```\n",
    "- Time   O(sequence_length^2 * num_layers * embedding_dim)\n",
    "  parallelizable to O(num_layers * (log(sequence_length) + log(embedding_dim)))\n",
    "- Memory O(sequence_length^2 * num_layers * embedding_dim) if parallelizing\n",
    "- Cache  O(sequence_length   * num_layers * head_dim * num_key_value_groups)\n",
    "```"
   ]
  },
  {
   "cell_type": "markdown",
   "id": "c8d065c0",
   "metadata": {},
   "source": [
    "Complexity of autoregressive decoding per token - just the attention mechanism\n",
    "\n",
    "The query length is just one\n",
    "\n",
    "```\n",
    "- Time   O(sequence_length * num_layers * embedding_dim)\n",
    "  parallelizable to O(num_layers * (log(sequence_length) + log(embedding_dim)))\n",
    "- Memory O(sequence_length * num_layers * embedding_dim) if parallelizing\n",
    "- Cache  O(num_layers * head_dim * num_key_value_groups)\n",
    "```"
   ]
  },
  {
   "cell_type": "markdown",
   "id": "8c7f7fa9",
   "metadata": {},
   "source": [
    "# Positional embeddings"
   ]
  },
  {
   "cell_type": "code",
   "execution_count": 34,
   "id": "76b50adf",
   "metadata": {},
   "outputs": [],
   "source": [
    "embeddings = torch.ones(1).to(model.device)\n",
    "position_ids = torch.arange(50).unsqueeze(0).to(model.device)"
   ]
  },
  {
   "cell_type": "code",
   "execution_count": 35,
   "id": "c82a9951",
   "metadata": {},
   "outputs": [],
   "source": [
    "sin, cos = model.model.layers[0].self_attn.rotary_emb(embeddings, position_ids)"
   ]
  },
  {
   "cell_type": "code",
   "execution_count": 36,
   "id": "bc9312f9",
   "metadata": {
    "scrolled": false
   },
   "outputs": [
    {
     "data": {
      "image/png": "[encoded data removed]",
      "text/plain": [
       "<Figure size 640x480 with 1 Axes>"
      ]
     },
     "metadata": {},
     "output_type": "display_data"
    }
   ],
   "source": [
    "import matplotlib.pyplot as plt\n",
    "plt.plot(cos.cpu()[0], 'o-', ms=1, lw=0.05, alpha=0.5)  # Increase marker size\n",
    "plt.show()"
   ]
  },
  {
   "cell_type": "code",
   "execution_count": 37,
   "id": "53e99474",
   "metadata": {
    "scrolled": false
   },
   "outputs": [
    {
     "data": {
      "image/png": "[encoded data removed]",
      "text/plain": [
       "<Figure size 640x480 with 1 Axes>"
      ]
     },
     "metadata": {},
     "output_type": "display_data"
    }
   ],
   "source": [
    "import matplotlib.pyplot as plt\n",
    "plt.plot(sin.cpu()[0], 'o-', ms=1, lw=0.05, alpha=0.5)  # Increase marker size\n",
    "plt.show()"
   ]
  },
  {
   "cell_type": "markdown",
   "id": "ef295014",
   "metadata": {},
   "source": [
    "- The first pair of values in the embedding is rotated by 1 $\\times$ position_id / 100_000\n",
    "- The second pair of values in the embedding is rotated by 2 $\\times$ position_id / 100_000\n",
    "- ... etc"
   ]
  },
  {
   "cell_type": "markdown",
   "id": "a4ee2c79",
   "metadata": {},
   "source": [
    "# Observations\n",
    "\n",
    "- For a certain value in the output of the attention mechanism, can you trace the calculations?\n",
    "- The key value embeddings is cached (you don't need to store past query embeddings)\n",
    "- The embedding size before and after each attention layer\n",
    "- Where the residual connections are\n",
    "- Positional embeddings is applied on the key value embeddings `apply_rotary_pos_emb`\n",
    "- The architecture is heavily parallelizable\n",
    "- The complexity increases quadratically over sequence length\n",
    "- The number of parameters is invariant to sequence length (as positional embeddings are sinosoids)"
   ]
  },
  {
   "cell_type": "markdown",
   "id": "ad73e02b",
   "metadata": {},
   "source": [
    "# Think of how these works\n",
    "\n",
    "- [Prompt caching](https://platform.openai.com/docs/guides/prompt-caching)\n",
    "- [Predicted outputs](https://platform.openai.com/docs/guides/predicted-outputs)\n",
    "- [Speculative decoding](https://docs.vllm.ai/en/latest/usage/spec_decode.html)"
   ]
  },
  {
   "cell_type": "markdown",
   "id": "0d21fa85",
   "metadata": {},
   "source": [
    "# Other readings\n",
    "\n",
    "- [Flash attention](https://arxiv.org/pdf/2205.14135)"
   ]
  }
 ],
 "metadata": {
  "kernelspec": {
   "display_name": "Python 3 (ipykernel)",
   "language": "python",
   "name": "python3"
  },
  "language_info": {
   "codemirror_mode": {
    "name": "ipython",
    "version": 3
   },
   "file_extension": ".py",
   "mimetype": "text/x-python",
   "name": "python",
   "nbconvert_exporter": "python",
   "pygments_lexer": "ipython3",
   "version": "3.9.6"
  }
 },
 "nbformat": 4,
 "nbformat_minor": 5
}
